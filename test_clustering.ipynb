{
 "cells": [
  {
   "cell_type": "markdown",
   "metadata": {
    "id": "mhDweyWIZ6Tv"
   },
   "source": [
    "# Dataset of transit boards in Niterói- RJ\n",
    "https://dados-geoniteroi.opendata.arcgis.com/datasets/545dd49be2c84123bac20024411b663f_10/explore?location=-22.923301%2C-43.059100%2C13.71"
   ]
  },
  {
   "cell_type": "markdown",
   "metadata": {},
   "source": [
    "## Imports"
   ]
  },
  {
   "cell_type": "code",
   "execution_count": 1,
   "metadata": {
    "executionInfo": {
     "elapsed": 17,
     "status": "ok",
     "timestamp": 1627681976523,
     "user": {
      "displayName": "Anna Luiza Gomes",
      "photoUrl": "https://lh3.googleusercontent.com/a-/AOh14GhjNEQLt1iVqEIbGy8rzz6BUJmdtmMeL1bY-kEtnw=s64",
      "userId": "06212789479970554700"
     },
     "user_tz": 180
    },
    "id": "Y03rZXUmZ6T1"
   },
   "outputs": [],
   "source": [
    "import pandas as pd\n",
    "import seaborn as sns\n",
    "from sklearn.cluster import DBSCAN\n",
    "import numpy as np\n",
    "import matplotlib.pyplot as plt\n",
    "from sklearn.cluster import KMeans \n",
    "from sklearn.metrics import silhouette_score"
   ]
  },
  {
   "cell_type": "markdown",
   "metadata": {},
   "source": [
    "## The dataset"
   ]
  },
  {
   "cell_type": "code",
   "execution_count": 2,
   "metadata": {
    "executionInfo": {
     "elapsed": 621,
     "status": "ok",
     "timestamp": 1627682244536,
     "user": {
      "displayName": "Anna Luiza Gomes",
      "photoUrl": "https://lh3.googleusercontent.com/a-/AOh14GhjNEQLt1iVqEIbGy8rzz6BUJmdtmMeL1bY-kEtnw=s64",
      "userId": "06212789479970554700"
     },
     "user_tz": 180
    },
    "id": "JUBMEX7yZ6T3"
   },
   "outputs": [],
   "source": [
    "data = pd.read_csv('Data/Placas_Neltur.csv')"
   ]
  },
  {
   "cell_type": "code",
   "execution_count": 3,
   "metadata": {
    "executionInfo": {
     "elapsed": 280,
     "status": "ok",
     "timestamp": 1627682250164,
     "user": {
      "displayName": "Anna Luiza Gomes",
      "photoUrl": "https://lh3.googleusercontent.com/a-/AOh14GhjNEQLt1iVqEIbGy8rzz6BUJmdtmMeL1bY-kEtnw=s64",
      "userId": "06212789479970554700"
     },
     "user_tz": 180
    },
    "id": "CVx0n_lYZ6T4"
   },
   "outputs": [],
   "source": [
    "data= data[['X','Y']]"
   ]
  },
  {
   "cell_type": "code",
   "execution_count": 4,
   "metadata": {
    "colab": {
     "base_uri": "https://localhost:8080/"
    },
    "executionInfo": {
     "elapsed": 16,
     "status": "ok",
     "timestamp": 1627682251188,
     "user": {
      "displayName": "Anna Luiza Gomes",
      "photoUrl": "https://lh3.googleusercontent.com/a-/AOh14GhjNEQLt1iVqEIbGy8rzz6BUJmdtmMeL1bY-kEtnw=s64",
      "userId": "06212789479970554700"
     },
     "user_tz": 180
    },
    "id": "gXzr2YfPZ6T5",
    "outputId": "67a5fb82-71f9-4046-d124-5be5848ca805"
   },
   "outputs": [
    {
     "data": {
      "text/plain": [
       "(253, 2)"
      ]
     },
     "execution_count": 4,
     "metadata": {},
     "output_type": "execute_result"
    }
   ],
   "source": [
    "# Shape of the dataset\n",
    "data.shape"
   ]
  },
  {
   "cell_type": "code",
   "execution_count": 5,
   "metadata": {
    "colab": {
     "base_uri": "https://localhost:8080/",
     "height": 205
    },
    "executionInfo": {
     "elapsed": 402,
     "status": "ok",
     "timestamp": 1627682254290,
     "user": {
      "displayName": "Anna Luiza Gomes",
      "photoUrl": "https://lh3.googleusercontent.com/a-/AOh14GhjNEQLt1iVqEIbGy8rzz6BUJmdtmMeL1bY-kEtnw=s64",
      "userId": "06212789479970554700"
     },
     "user_tz": 180
    },
    "id": "R99ZZvluZ6T7",
    "outputId": "de298d3c-ccdd-4abb-8f86-82e7308f4f16"
   },
   "outputs": [
    {
     "data": {
      "text/html": [
       "<div>\n",
       "<style scoped>\n",
       "    .dataframe tbody tr th:only-of-type {\n",
       "        vertical-align: middle;\n",
       "    }\n",
       "\n",
       "    .dataframe tbody tr th {\n",
       "        vertical-align: top;\n",
       "    }\n",
       "\n",
       "    .dataframe thead th {\n",
       "        text-align: right;\n",
       "    }\n",
       "</style>\n",
       "<table border=\"1\" class=\"dataframe\">\n",
       "  <thead>\n",
       "    <tr style=\"text-align: right;\">\n",
       "      <th></th>\n",
       "      <th>X</th>\n",
       "      <th>Y</th>\n",
       "    </tr>\n",
       "  </thead>\n",
       "  <tbody>\n",
       "    <tr>\n",
       "      <th>0</th>\n",
       "      <td>-43.095849</td>\n",
       "      <td>-22.889417</td>\n",
       "    </tr>\n",
       "    <tr>\n",
       "      <th>1</th>\n",
       "      <td>-43.094007</td>\n",
       "      <td>-22.889563</td>\n",
       "    </tr>\n",
       "    <tr>\n",
       "      <th>2</th>\n",
       "      <td>-43.107802</td>\n",
       "      <td>-22.902906</td>\n",
       "    </tr>\n",
       "    <tr>\n",
       "      <th>3</th>\n",
       "      <td>-43.106539</td>\n",
       "      <td>-22.905421</td>\n",
       "    </tr>\n",
       "    <tr>\n",
       "      <th>4</th>\n",
       "      <td>-43.105506</td>\n",
       "      <td>-22.906442</td>\n",
       "    </tr>\n",
       "  </tbody>\n",
       "</table>\n",
       "</div>"
      ],
      "text/plain": [
       "           X          Y\n",
       "0 -43.095849 -22.889417\n",
       "1 -43.094007 -22.889563\n",
       "2 -43.107802 -22.902906\n",
       "3 -43.106539 -22.905421\n",
       "4 -43.105506 -22.906442"
      ]
     },
     "execution_count": 5,
     "metadata": {},
     "output_type": "execute_result"
    }
   ],
   "source": [
    "data.head()"
   ]
  },
  {
   "cell_type": "code",
   "execution_count": 6,
   "metadata": {
    "colab": {
     "base_uri": "https://localhost:8080/",
     "height": 305
    },
    "executionInfo": {
     "elapsed": 361,
     "status": "ok",
     "timestamp": 1627683552625,
     "user": {
      "displayName": "Anna Luiza Gomes",
      "photoUrl": "https://lh3.googleusercontent.com/a-/AOh14GhjNEQLt1iVqEIbGy8rzz6BUJmdtmMeL1bY-kEtnw=s64",
      "userId": "06212789479970554700"
     },
     "user_tz": 180
    },
    "id": "tMS6106MZ6T8",
    "outputId": "ff13ca56-a6c4-4648-f38b-e41f7bddca24"
   },
   "outputs": [
    {
     "data": {
      "image/png": "[encoded data removed]",
      "text/plain": [
       "<Figure size 432x288 with 1 Axes>"
      ]
     },
     "metadata": {
      "needs_background": "light"
     },
     "output_type": "display_data"
    }
   ],
   "source": [
    "# Fixing random state for reproducibility\n",
    "np.random.seed(10)\n",
    "\n",
    "\n",
    "x = data['X'].values\n",
    "y = data['Y'].values\n",
    "\n",
    "\n",
    "plt.title('Transit boards of Niterói', fontsize=20)\n",
    "plt.xlabel('latitude', fontsize=16)\n",
    "plt.ylabel('longitude', fontsize=16)\n",
    "plt.scatter(x, y,   alpha=0.5)\n",
    "plt.show()"
   ]
  },
  {
   "cell_type": "markdown",
   "metadata": {
    "id": "yW_qi665Z6T-"
   },
   "source": [
    "## KMeans"
   ]
  },
  {
   "cell_type": "code",
   "execution_count": 7,
   "metadata": {
    "executionInfo": {
     "elapsed": 1044,
     "status": "ok",
     "timestamp": 1627682307832,
     "user": {
      "displayName": "Anna Luiza Gomes",
      "photoUrl": "https://lh3.googleusercontent.com/a-/AOh14GhjNEQLt1iVqEIbGy8rzz6BUJmdtmMeL1bY-kEtnw=s64",
      "userId": "06212789479970554700"
     },
     "user_tz": 180
    },
    "id": "2_cXcN-4Z6UB"
   },
   "outputs": [],
   "source": [
    "n_clusters = [2,3,4,5,6,7,8,9,10] # number of clusters\n",
    "clusters_inertia = [] # inertia of clusters\n",
    "s_scores = [] # silhouette scores\n",
    "\n",
    "for n in n_clusters:\n",
    "    KM_est = KMeans(n_clusters=n, init='k-means++').fit(data)\n",
    "    clusters_inertia.append(KM_est.inertia_)    # data for the elbow method\n",
    "    silhouette_avg = silhouette_score(data, KM_est.labels_)\n",
    "    s_scores.append(silhouette_avg) # data for the silhouette score method"
   ]
  },
  {
   "cell_type": "code",
   "execution_count": 8,
   "metadata": {
    "colab": {
     "base_uri": "https://localhost:8080/",
     "height": 406
    },
    "executionInfo": {
     "elapsed": 1036,
     "status": "ok",
     "timestamp": 1627682312846,
     "user": {
      "displayName": "Anna Luiza Gomes",
      "photoUrl": "https://lh3.googleusercontent.com/a-/AOh14GhjNEQLt1iVqEIbGy8rzz6BUJmdtmMeL1bY-kEtnw=s64",
      "userId": "06212789479970554700"
     },
     "user_tz": 180
    },
    "id": "015Uwy8CZ6UC",
    "outputId": "e8947c78-62bf-464c-faf1-faf709d1617f"
   },
   "outputs": [
    {
     "name": "stderr",
     "output_type": "stream",
     "text": [
      "/home/annagomes/anaconda3/lib/python3.8/site-packages/seaborn/_decorators.py:36: FutureWarning: Pass the following variables as keyword args: x, y. From version 0.12, the only valid positional argument will be `data`, and passing other arguments without an explicit keyword will result in an error or misinterpretation.\n",
      "  warnings.warn(\n"
     ]
    },
    {
     "data": {
      "image/png": "[encoded data removed]",
      "text/plain": [
       "<Figure size 864x360 with 1 Axes>"
      ]
     },
     "metadata": {
      "needs_background": "light"
     },
     "output_type": "display_data"
    }
   ],
   "source": [
    "fig, ax = plt.subplots(figsize=(12,5))\n",
    "ax = sns.lineplot(n_clusters, clusters_inertia, marker='o', ax=ax)\n",
    "ax.set_title(\"Elbow method\")\n",
    "ax.set_xlabel(\"number of clusters\")\n",
    "ax.set_ylabel(\"clusters inertia\")\n",
    "ax.axvline(4, ls=\"--\", c=\"red\")\n",
    "ax.axvline(5, ls=\"--\", c=\"red\")\n",
    "plt.grid()\n",
    "plt.show()"
   ]
  },
  {
   "cell_type": "markdown",
   "metadata": {
    "id": "SJrpqy5rbSVJ"
   },
   "source": [
    "Using the elbow method, the ideal k value ranges from 4 to 5."
   ]
  },
  {
   "cell_type": "code",
   "execution_count": 9,
   "metadata": {
    "colab": {
     "base_uri": "https://localhost:8080/",
     "height": 406
    },
    "executionInfo": {
     "elapsed": 465,
     "status": "ok",
     "timestamp": 1627682371962,
     "user": {
      "displayName": "Anna Luiza Gomes",
      "photoUrl": "https://lh3.googleusercontent.com/a-/AOh14GhjNEQLt1iVqEIbGy8rzz6BUJmdtmMeL1bY-kEtnw=s64",
      "userId": "06212789479970554700"
     },
     "user_tz": 180
    },
    "id": "AzxiCyOOZ6UD",
    "outputId": "83a615a2-722b-48c8-fadb-e96e517b72bc"
   },
   "outputs": [
    {
     "name": "stderr",
     "output_type": "stream",
     "text": [
      "/home/annagomes/anaconda3/lib/python3.8/site-packages/seaborn/_decorators.py:36: FutureWarning: Pass the following variables as keyword args: x, y. From version 0.12, the only valid positional argument will be `data`, and passing other arguments without an explicit keyword will result in an error or misinterpretation.\n",
      "  warnings.warn(\n"
     ]
    },
    {
     "data": {
      "image/png": "[encoded data removed]",
      "text/plain": [
       "<Figure size 864x360 with 1 Axes>"
      ]
     },
     "metadata": {
      "needs_background": "light"
     },
     "output_type": "display_data"
    }
   ],
   "source": [
    "fig, ax = plt.subplots(figsize=(12,5))\n",
    "ax = sns.lineplot(n_clusters, s_scores, marker='o', ax=ax)\n",
    "ax.set_title(\"Silhouette score method\")\n",
    "ax.set_xlabel(\"number of clusters\")\n",
    "ax.set_ylabel(\"Silhouette score\")\n",
    "ax.axvline(2, ls=\"--\", c=\"red\")\n",
    "plt.grid()\n",
    "plt.show()"
   ]
  },
  {
   "cell_type": "markdown",
   "metadata": {
    "id": "M5mse6xkfPUQ"
   },
   "source": [
    "Using the silhouette method, the best value for k is 2."
   ]
  },
  {
   "cell_type": "code",
   "execution_count": 10,
   "metadata": {
    "executionInfo": {
     "elapsed": 295,
     "status": "ok",
     "timestamp": 1627682419136,
     "user": {
      "displayName": "Anna Luiza Gomes",
      "photoUrl": "https://lh3.googleusercontent.com/a-/AOh14GhjNEQLt1iVqEIbGy8rzz6BUJmdtmMeL1bY-kEtnw=s64",
      "userId": "06212789479970554700"
     },
     "user_tz": 180
    },
    "id": "U96q3_eHZ6UF"
   },
   "outputs": [],
   "source": [
    "KM_8_clusters = KMeans(n_clusters=8, init='k-means++').fit(data) # initialise and fit K-Means model\n",
    "\n",
    "KM8_clustered = data.copy()\n",
    "KM8_clustered.loc[:,'Cluster'] = KM_8_clusters.labels_ # append labels to points"
   ]
  },
  {
   "cell_type": "code",
   "execution_count": 11,
   "metadata": {
    "colab": {
     "base_uri": "https://localhost:8080/",
     "height": 422
    },
    "executionInfo": {
     "elapsed": 696,
     "status": "ok",
     "timestamp": 1627682422406,
     "user": {
      "displayName": "Anna Luiza Gomes",
      "photoUrl": "https://lh3.googleusercontent.com/a-/AOh14GhjNEQLt1iVqEIbGy8rzz6BUJmdtmMeL1bY-kEtnw=s64",
      "userId": "06212789479970554700"
     },
     "user_tz": 180
    },
    "id": "o4r-NBsVZ6UG",
    "outputId": "752fcc7d-b40c-48dd-d19d-8e6ee36d0fcb"
   },
   "outputs": [
    {
     "data": {
      "text/html": [
       "<div>\n",
       "<style scoped>\n",
       "    .dataframe tbody tr th:only-of-type {\n",
       "        vertical-align: middle;\n",
       "    }\n",
       "\n",
       "    .dataframe tbody tr th {\n",
       "        vertical-align: top;\n",
       "    }\n",
       "\n",
       "    .dataframe thead th {\n",
       "        text-align: right;\n",
       "    }\n",
       "</style>\n",
       "<table border=\"1\" class=\"dataframe\">\n",
       "  <thead>\n",
       "    <tr style=\"text-align: right;\">\n",
       "      <th></th>\n",
       "      <th>X</th>\n",
       "      <th>Y</th>\n",
       "      <th>Cluster</th>\n",
       "    </tr>\n",
       "  </thead>\n",
       "  <tbody>\n",
       "    <tr>\n",
       "      <th>0</th>\n",
       "      <td>-43.095849</td>\n",
       "      <td>-22.889417</td>\n",
       "      <td>0</td>\n",
       "    </tr>\n",
       "    <tr>\n",
       "      <th>1</th>\n",
       "      <td>-43.094007</td>\n",
       "      <td>-22.889563</td>\n",
       "      <td>0</td>\n",
       "    </tr>\n",
       "    <tr>\n",
       "      <th>2</th>\n",
       "      <td>-43.107802</td>\n",
       "      <td>-22.902906</td>\n",
       "      <td>2</td>\n",
       "    </tr>\n",
       "    <tr>\n",
       "      <th>3</th>\n",
       "      <td>-43.106539</td>\n",
       "      <td>-22.905421</td>\n",
       "      <td>2</td>\n",
       "    </tr>\n",
       "    <tr>\n",
       "      <th>4</th>\n",
       "      <td>-43.105506</td>\n",
       "      <td>-22.906442</td>\n",
       "      <td>2</td>\n",
       "    </tr>\n",
       "    <tr>\n",
       "      <th>...</th>\n",
       "      <td>...</td>\n",
       "      <td>...</td>\n",
       "      <td>...</td>\n",
       "    </tr>\n",
       "    <tr>\n",
       "      <th>248</th>\n",
       "      <td>-43.111947</td>\n",
       "      <td>-22.899367</td>\n",
       "      <td>5</td>\n",
       "    </tr>\n",
       "    <tr>\n",
       "      <th>249</th>\n",
       "      <td>-43.112110</td>\n",
       "      <td>-22.899637</td>\n",
       "      <td>5</td>\n",
       "    </tr>\n",
       "    <tr>\n",
       "      <th>250</th>\n",
       "      <td>-43.112224</td>\n",
       "      <td>-22.899946</td>\n",
       "      <td>5</td>\n",
       "    </tr>\n",
       "    <tr>\n",
       "      <th>251</th>\n",
       "      <td>-43.112782</td>\n",
       "      <td>-22.900606</td>\n",
       "      <td>5</td>\n",
       "    </tr>\n",
       "    <tr>\n",
       "      <th>252</th>\n",
       "      <td>-43.112954</td>\n",
       "      <td>-22.900811</td>\n",
       "      <td>5</td>\n",
       "    </tr>\n",
       "  </tbody>\n",
       "</table>\n",
       "<p>253 rows × 3 columns</p>\n",
       "</div>"
      ],
      "text/plain": [
       "             X          Y  Cluster\n",
       "0   -43.095849 -22.889417        0\n",
       "1   -43.094007 -22.889563        0\n",
       "2   -43.107802 -22.902906        2\n",
       "3   -43.106539 -22.905421        2\n",
       "4   -43.105506 -22.906442        2\n",
       "..         ...        ...      ...\n",
       "248 -43.111947 -22.899367        5\n",
       "249 -43.112110 -22.899637        5\n",
       "250 -43.112224 -22.899946        5\n",
       "251 -43.112782 -22.900606        5\n",
       "252 -43.112954 -22.900811        5\n",
       "\n",
       "[253 rows x 3 columns]"
      ]
     },
     "execution_count": 11,
     "metadata": {},
     "output_type": "execute_result"
    }
   ],
   "source": [
    "KM8_clustered"
   ]
  },
  {
   "cell_type": "code",
   "execution_count": 12,
   "metadata": {
    "colab": {
     "base_uri": "https://localhost:8080/",
     "height": 313
    },
    "executionInfo": {
     "elapsed": 835,
     "status": "ok",
     "timestamp": 1627683597887,
     "user": {
      "displayName": "Anna Luiza Gomes",
      "photoUrl": "https://lh3.googleusercontent.com/a-/AOh14GhjNEQLt1iVqEIbGy8rzz6BUJmdtmMeL1bY-kEtnw=s64",
      "userId": "06212789479970554700"
     },
     "user_tz": 180
    },
    "id": "yG7reg9Ddr2w",
    "outputId": "05b736d4-b9cf-4378-f37e-8d31ca575c62"
   },
   "outputs": [
    {
     "data": {
      "text/plain": [
       "[Text(0.5, 1.0, 'Clusterization with K-Means')]"
      ]
     },
     "execution_count": 12,
     "metadata": {},
     "output_type": "execute_result"
    },
    {
     "data": {
      "image/png": "[encoded data removed]",
      "text/plain": [
       "<Figure size 432x288 with 1 Axes>"
      ]
     },
     "metadata": {
      "needs_background": "light"
     },
     "output_type": "display_data"
    }
   ],
   "source": [
    "sns.scatterplot(data=KM8_clustered,hue='Cluster', x=\"X\", y=\"Y\", palette='Set1').set(title='Clusterization with K-Means')"
   ]
  },
  {
   "cell_type": "code",
   "execution_count": 13,
   "metadata": {
    "colab": {
     "base_uri": "https://localhost:8080/",
     "height": 362
    },
    "executionInfo": {
     "elapsed": 246,
     "status": "ok",
     "timestamp": 1627683139310,
     "user": {
      "displayName": "Anna Luiza Gomes",
      "photoUrl": "https://lh3.googleusercontent.com/a-/AOh14GhjNEQLt1iVqEIbGy8rzz6BUJmdtmMeL1bY-kEtnw=s64",
      "userId": "06212789479970554700"
     },
     "user_tz": 180
    },
    "id": "KwLihQqUZ6UH",
    "outputId": "cde8addb-b46a-4d6a-cf22-ef089ff4767a"
   },
   "outputs": [
    {
     "data": {
      "text/html": [
       "<div>\n",
       "<style scoped>\n",
       "    .dataframe tbody tr th:only-of-type {\n",
       "        vertical-align: middle;\n",
       "    }\n",
       "\n",
       "    .dataframe tbody tr th {\n",
       "        vertical-align: top;\n",
       "    }\n",
       "\n",
       "    .dataframe thead th {\n",
       "        text-align: right;\n",
       "    }\n",
       "</style>\n",
       "<table border=\"1\" class=\"dataframe\">\n",
       "  <thead>\n",
       "    <tr style=\"text-align: right;\">\n",
       "      <th></th>\n",
       "      <th>KM_size</th>\n",
       "    </tr>\n",
       "    <tr>\n",
       "      <th>Cluster</th>\n",
       "      <th></th>\n",
       "    </tr>\n",
       "  </thead>\n",
       "  <tbody>\n",
       "    <tr>\n",
       "      <th>0</th>\n",
       "      <td>19</td>\n",
       "    </tr>\n",
       "    <tr>\n",
       "      <th>1</th>\n",
       "      <td>10</td>\n",
       "    </tr>\n",
       "    <tr>\n",
       "      <th>2</th>\n",
       "      <td>54</td>\n",
       "    </tr>\n",
       "    <tr>\n",
       "      <th>3</th>\n",
       "      <td>25</td>\n",
       "    </tr>\n",
       "    <tr>\n",
       "      <th>4</th>\n",
       "      <td>11</td>\n",
       "    </tr>\n",
       "    <tr>\n",
       "      <th>5</th>\n",
       "      <td>97</td>\n",
       "    </tr>\n",
       "    <tr>\n",
       "      <th>6</th>\n",
       "      <td>24</td>\n",
       "    </tr>\n",
       "    <tr>\n",
       "      <th>7</th>\n",
       "      <td>13</td>\n",
       "    </tr>\n",
       "  </tbody>\n",
       "</table>\n",
       "</div>"
      ],
      "text/plain": [
       "         KM_size\n",
       "Cluster         \n",
       "0             19\n",
       "1             10\n",
       "2             54\n",
       "3             25\n",
       "4             11\n",
       "5             97\n",
       "6             24\n",
       "7             13"
      ]
     },
     "execution_count": 13,
     "metadata": {},
     "output_type": "execute_result"
    }
   ],
   "source": [
    "# Size of each cluster\n",
    "KM_clust_sizes = KM8_clustered.groupby('Cluster').size().to_frame()\n",
    "KM_clust_sizes.columns = [\"KM_size\"]\n",
    "KM_clust_sizes"
   ]
  },
  {
   "cell_type": "markdown",
   "metadata": {
    "id": "11X9S_zLZ6UH"
   },
   "source": [
    "## Dbscan "
   ]
  },
  {
   "cell_type": "markdown",
   "metadata": {},
   "source": [
    "### The epsilon and coordinates get converted to radians, because scikit-learn’s haversine metric needs radian units."
   ]
  },
  {
   "cell_type": "code",
   "execution_count": 14,
   "metadata": {
    "colab": {
     "base_uri": "https://localhost:8080/"
    },
    "executionInfo": {
     "elapsed": 288,
     "status": "ok",
     "timestamp": 1627683163344,
     "user": {
      "displayName": "Anna Luiza Gomes",
      "photoUrl": "https://lh3.googleusercontent.com/a-/AOh14GhjNEQLt1iVqEIbGy8rzz6BUJmdtmMeL1bY-kEtnw=s64",
      "userId": "06212789479970554700"
     },
     "user_tz": 180
    },
    "id": "zgWD6cexZ6UI",
    "outputId": "a0999497-53e3-4e40-c8c7-b1b4907948bc"
   },
   "outputs": [
    {
     "name": "stdout",
     "output_type": "stream",
     "text": [
      "0.00023544152065839246\n"
     ]
    }
   ],
   "source": [
    "# A way to measure the maximum distance between points in the same cluster\n",
    "kms_per_radian = 6371.0088\n",
    "epsilon = 1.5 / kms_per_radian  #1.5km maximum distance between points to be of the same cluster\n",
    "print(epsilon)"
   ]
  },
  {
   "cell_type": "code",
   "execution_count": 15,
   "metadata": {
    "colab": {
     "base_uri": "https://localhost:8080/"
    },
    "executionInfo": {
     "elapsed": 309,
     "status": "ok",
     "timestamp": 1627683178325,
     "user": {
      "displayName": "Anna Luiza Gomes",
      "photoUrl": "https://lh3.googleusercontent.com/a-/AOh14GhjNEQLt1iVqEIbGy8rzz6BUJmdtmMeL1bY-kEtnw=s64",
      "userId": "06212789479970554700"
     },
     "user_tz": 180
    },
    "id": "PrYuNKl5Z6UK",
    "outputId": "efca8dab-e719-4c71-a015-fce48bab90c2"
   },
   "outputs": [
    {
     "name": "stdout",
     "output_type": "stream",
     "text": [
      "0.00015696101377226163\n"
     ]
    }
   ],
   "source": [
    "# A way to measure the minimum distance between points in the same cluster\n",
    "kms_per_radian = 6371.0088\n",
    "epsilon = 1 / kms_per_radian  #1km maximum distance between points to be of the same cluster\n",
    "print(epsilon)"
   ]
  },
  {
   "cell_type": "code",
   "execution_count": 16,
   "metadata": {
    "colab": {
     "base_uri": "https://localhost:8080/"
    },
    "executionInfo": {
     "elapsed": 269,
     "status": "ok",
     "timestamp": 1627683175355,
     "user": {
      "displayName": "Anna Luiza Gomes",
      "photoUrl": "https://lh3.googleusercontent.com/a-/AOh14GhjNEQLt1iVqEIbGy8rzz6BUJmdtmMeL1bY-kEtnw=s64",
      "userId": "06212789479970554700"
     },
     "user_tz": 180
    },
    "id": "4JAEnL3iZ6UJ",
    "outputId": "16bf8e06-48b1-463c-a48c-cd45ed9fbffd"
   },
   "outputs": [
    {
     "data": {
      "text/plain": [
       "1.6000000000000003e-05"
      ]
     },
     "execution_count": 16,
     "metadata": {},
     "output_type": "execute_result"
    }
   ],
   "source": [
    "# maximum distance - minimum distance = step in the iteration\n",
    "(0.00023-0.00015)/5"
   ]
  },
  {
   "cell_type": "code",
   "execution_count": 17,
   "metadata": {
    "executionInfo": {
     "elapsed": 239,
     "status": "ok",
     "timestamp": 1627683195615,
     "user": {
      "displayName": "Anna Luiza Gomes",
      "photoUrl": "https://lh3.googleusercontent.com/a-/AOh14GhjNEQLt1iVqEIbGy8rzz6BUJmdtmMeL1bY-kEtnw=s64",
      "userId": "06212789479970554700"
     },
     "user_tz": 180
    },
    "id": "axgkOG5tZ6UK"
   },
   "outputs": [],
   "source": [
    "from itertools import product\n",
    "\n",
    "eps_values = np.arange(0.00015,0.00023,1.6000000000000003e-05) # eps values to be investigated\n",
    "min_samples = np.arange(2,10) # min_samples values to be investigated\n",
    "DBSCAN_params = list(product(eps_values, min_samples))"
   ]
  },
  {
   "cell_type": "code",
   "execution_count": 18,
   "metadata": {
    "colab": {
     "base_uri": "https://localhost:8080/"
    },
    "executionInfo": {
     "elapsed": 265,
     "status": "ok",
     "timestamp": 1627683197848,
     "user": {
      "displayName": "Anna Luiza Gomes",
      "photoUrl": "https://lh3.googleusercontent.com/a-/AOh14GhjNEQLt1iVqEIbGy8rzz6BUJmdtmMeL1bY-kEtnw=s64",
      "userId": "06212789479970554700"
     },
     "user_tz": 180
    },
    "id": "2xbk5xD0Z6UL",
    "outputId": "90cdb2ce-221d-40de-cb8c-f3c3d36fbc70"
   },
   "outputs": [
    {
     "data": {
      "text/plain": [
       "[(0.00015, 2),\n",
       " (0.00015, 3),\n",
       " (0.00015, 4),\n",
       " (0.00015, 5),\n",
       " (0.00015, 6),\n",
       " (0.00015, 7),\n",
       " (0.00015, 8),\n",
       " (0.00015, 9),\n",
       " (0.000166, 2),\n",
       " (0.000166, 3),\n",
       " (0.000166, 4),\n",
       " (0.000166, 5),\n",
       " (0.000166, 6),\n",
       " (0.000166, 7),\n",
       " (0.000166, 8),\n",
       " (0.000166, 9),\n",
       " (0.000182, 2),\n",
       " (0.000182, 3),\n",
       " (0.000182, 4),\n",
       " (0.000182, 5),\n",
       " (0.000182, 6),\n",
       " (0.000182, 7),\n",
       " (0.000182, 8),\n",
       " (0.000182, 9),\n",
       " (0.00019800000000000002, 2),\n",
       " (0.00019800000000000002, 3),\n",
       " (0.00019800000000000002, 4),\n",
       " (0.00019800000000000002, 5),\n",
       " (0.00019800000000000002, 6),\n",
       " (0.00019800000000000002, 7),\n",
       " (0.00019800000000000002, 8),\n",
       " (0.00019800000000000002, 9),\n",
       " (0.00021400000000000002, 2),\n",
       " (0.00021400000000000002, 3),\n",
       " (0.00021400000000000002, 4),\n",
       " (0.00021400000000000002, 5),\n",
       " (0.00021400000000000002, 6),\n",
       " (0.00021400000000000002, 7),\n",
       " (0.00021400000000000002, 8),\n",
       " (0.00021400000000000002, 9)]"
      ]
     },
     "execution_count": 18,
     "metadata": {},
     "output_type": "execute_result"
    }
   ],
   "source": [
    "DBSCAN_params"
   ]
  },
  {
   "cell_type": "markdown",
   "metadata": {
    "id": "PyoCP2PgZ6UL"
   },
   "source": [
    "### Using the metric  haversine:\n",
    "#### The haversine formula determines the great-circle distance between two points on a sphere given their longitudes and latitudes. Important in navigation, it is a special case of a more general formula in spherical trigonometry, the law of haversines, that relates the sides and angles of spherical triangles. (https://en.wikipedia.org/wiki/Haversine_formula )\n",
    "\n",
    "### Using the algorithm ball tree:\n",
    "#### A ball tree recursively divides the data into nodes defined by a centroid  and radius , such that each point in the node lies within the hyper-sphere defined by  and . The number of candidate points for a neighbor search is reduced through use of the triangle inequality:\n",
    "\n",
    "#### |x + y| <= |x| + |y|\n",
    "\n",
    "### (https://scikit-learn.org/stable/modules/neighbors.html#ball-tree )"
   ]
  },
  {
   "cell_type": "code",
   "execution_count": 19,
   "metadata": {
    "executionInfo": {
     "elapsed": 231,
     "status": "ok",
     "timestamp": 1627683616142,
     "user": {
      "displayName": "Anna Luiza Gomes",
      "photoUrl": "https://lh3.googleusercontent.com/a-/AOh14GhjNEQLt1iVqEIbGy8rzz6BUJmdtmMeL1bY-kEtnw=s64",
      "userId": "06212789479970554700"
     },
     "user_tz": 180
    },
    "id": "UxZObLAWZ6UM"
   },
   "outputs": [],
   "source": [
    "data = np.radians(data)"
   ]
  },
  {
   "cell_type": "code",
   "execution_count": 20,
   "metadata": {
    "colab": {
     "base_uri": "https://localhost:8080/",
     "height": 205
    },
    "executionInfo": {
     "elapsed": 241,
     "status": "ok",
     "timestamp": 1627683617980,
     "user": {
      "displayName": "Anna Luiza Gomes",
      "photoUrl": "https://lh3.googleusercontent.com/a-/AOh14GhjNEQLt1iVqEIbGy8rzz6BUJmdtmMeL1bY-kEtnw=s64",
      "userId": "06212789479970554700"
     },
     "user_tz": 180
    },
    "id": "ThXaivfvZ6UM",
    "outputId": "ffe5060b-621b-4eb4-9378-f89b1b3d1b26"
   },
   "outputs": [
    {
     "data": {
      "text/html": [
       "<div>\n",
       "<style scoped>\n",
       "    .dataframe tbody tr th:only-of-type {\n",
       "        vertical-align: middle;\n",
       "    }\n",
       "\n",
       "    .dataframe tbody tr th {\n",
       "        vertical-align: top;\n",
       "    }\n",
       "\n",
       "    .dataframe thead th {\n",
       "        text-align: right;\n",
       "    }\n",
       "</style>\n",
       "<table border=\"1\" class=\"dataframe\">\n",
       "  <thead>\n",
       "    <tr style=\"text-align: right;\">\n",
       "      <th></th>\n",
       "      <th>X</th>\n",
       "      <th>Y</th>\n",
       "    </tr>\n",
       "  </thead>\n",
       "  <tbody>\n",
       "    <tr>\n",
       "      <th>0</th>\n",
       "      <td>-0.752164</td>\n",
       "      <td>-0.399496</td>\n",
       "    </tr>\n",
       "    <tr>\n",
       "      <th>1</th>\n",
       "      <td>-0.752132</td>\n",
       "      <td>-0.399498</td>\n",
       "    </tr>\n",
       "    <tr>\n",
       "      <th>2</th>\n",
       "      <td>-0.752373</td>\n",
       "      <td>-0.399731</td>\n",
       "    </tr>\n",
       "    <tr>\n",
       "      <th>3</th>\n",
       "      <td>-0.752351</td>\n",
       "      <td>-0.399775</td>\n",
       "    </tr>\n",
       "    <tr>\n",
       "      <th>4</th>\n",
       "      <td>-0.752333</td>\n",
       "      <td>-0.399793</td>\n",
       "    </tr>\n",
       "  </tbody>\n",
       "</table>\n",
       "</div>"
      ],
      "text/plain": [
       "          X         Y\n",
       "0 -0.752164 -0.399496\n",
       "1 -0.752132 -0.399498\n",
       "2 -0.752373 -0.399731\n",
       "3 -0.752351 -0.399775\n",
       "4 -0.752333 -0.399793"
      ]
     },
     "execution_count": 20,
     "metadata": {},
     "output_type": "execute_result"
    }
   ],
   "source": [
    "data.head()"
   ]
  },
  {
   "cell_type": "code",
   "execution_count": 21,
   "metadata": {
    "executionInfo": {
     "elapsed": 1169,
     "status": "ok",
     "timestamp": 1627683622329,
     "user": {
      "displayName": "Anna Luiza Gomes",
      "photoUrl": "https://lh3.googleusercontent.com/a-/AOh14GhjNEQLt1iVqEIbGy8rzz6BUJmdtmMeL1bY-kEtnw=s64",
      "userId": "06212789479970554700"
     },
     "user_tz": 180
    },
    "id": "5uQCidF_Z6UN"
   },
   "outputs": [],
   "source": [
    "no_of_clusters = []\n",
    "sil_score = []\n",
    "\n",
    "for p in DBSCAN_params:\n",
    "    DBS_clustering = DBSCAN(eps=p[0], min_samples=p[1],metric='haversine',algorithm='ball_tree').fit(data)\n",
    "    no_of_clusters.append(len(np.unique(DBS_clustering.labels_)))\n",
    "    sil_score.append(silhouette_score(data, DBS_clustering.labels_))"
   ]
  },
  {
   "cell_type": "code",
   "execution_count": 22,
   "metadata": {
    "colab": {
     "base_uri": "https://localhost:8080/",
     "height": 529
    },
    "executionInfo": {
     "elapsed": 804,
     "status": "ok",
     "timestamp": 1627683626735,
     "user": {
      "displayName": "Anna Luiza Gomes",
      "photoUrl": "https://lh3.googleusercontent.com/a-/AOh14GhjNEQLt1iVqEIbGy8rzz6BUJmdtmMeL1bY-kEtnw=s64",
      "userId": "06212789479970554700"
     },
     "user_tz": 180
    },
    "id": "Y93RtQyqZ6UO",
    "outputId": "f62378c3-bcbc-4d96-b7fb-df4bbce66484"
   },
   "outputs": [
    {
     "data": {
      "image/png": "[encoded data removed]",
      "text/plain": [
       "<Figure size 864x432 with 2 Axes>"
      ]
     },
     "metadata": {
      "needs_background": "light"
     },
     "output_type": "display_data"
    }
   ],
   "source": [
    "tmp = pd.DataFrame.from_records(DBSCAN_params, columns =['Eps', 'Min_samples'])   \n",
    "tmp['No_of_clusters'] = no_of_clusters\n",
    "\n",
    "pivot_1 = pd.pivot_table(tmp, values='No_of_clusters', index='Min_samples', columns='Eps')\n",
    "\n",
    "fig, ax = plt.subplots(figsize=(12,6))\n",
    "sns.heatmap(pivot_1, annot=True,annot_kws={\"size\": 16}, cmap=\"YlGnBu\", ax=ax)\n",
    "ax.set_title('Number of clusters')\n",
    "plt.show()"
   ]
  },
  {
   "cell_type": "markdown",
   "metadata": {
    "id": "BSubLWwEZ6UO"
   },
   "source": [
    "### As the heatmap shows the number of clusters varies from 4 to 8."
   ]
  },
  {
   "cell_type": "code",
   "execution_count": 23,
   "metadata": {
    "colab": {
     "base_uri": "https://localhost:8080/",
     "height": 388
    },
    "executionInfo": {
     "elapsed": 510,
     "status": "ok",
     "timestamp": 1627683693366,
     "user": {
      "displayName": "Anna Luiza Gomes",
      "photoUrl": "https://lh3.googleusercontent.com/a-/AOh14GhjNEQLt1iVqEIbGy8rzz6BUJmdtmMeL1bY-kEtnw=s64",
      "userId": "06212789479970554700"
     },
     "user_tz": 180
    },
    "id": "7pollwmoZ6UP",
    "outputId": "da3f8487-8eeb-4ac6-aa93-6630127c22bb"
   },
   "outputs": [
    {
     "data": {
      "image/png": "[encoded data removed]",
      "text/plain": [
       "<Figure size 1296x432 with 2 Axes>"
      ]
     },
     "metadata": {
      "needs_background": "light"
     },
     "output_type": "display_data"
    }
   ],
   "source": [
    "tmp = pd.DataFrame.from_records(DBSCAN_params, columns =['Eps', 'Min_samples'])   \n",
    "tmp['Sil_score'] = sil_score\n",
    "\n",
    "pivot_1 = pd.pivot_table(tmp, values='Sil_score', index='Min_samples', columns='Eps')\n",
    "\n",
    "fig, ax = plt.subplots(figsize=(18,6))\n",
    "sns.heatmap(pivot_1, annot=True, annot_kws={\"size\": 10}, cmap=\"YlGnBu\", ax=ax)\n",
    "plt.show()"
   ]
  },
  {
   "cell_type": "markdown",
   "metadata": {
    "id": "ROhxCOoaZ6UP"
   },
   "source": [
    "### Global maximum is 0.37 for eps 0.000182 and min_samples=8. "
   ]
  },
  {
   "cell_type": "code",
   "execution_count": 24,
   "metadata": {
    "executionInfo": {
     "elapsed": 256,
     "status": "ok",
     "timestamp": 1627684054550,
     "user": {
      "displayName": "Anna Luiza Gomes",
      "photoUrl": "https://lh3.googleusercontent.com/a-/AOh14GhjNEQLt1iVqEIbGy8rzz6BUJmdtmMeL1bY-kEtnw=s64",
      "userId": "06212789479970554700"
     },
     "user_tz": 180
    },
    "id": "46AkuLszZ6UQ"
   },
   "outputs": [],
   "source": [
    "DBS_clustering = DBSCAN(eps= 0.000166  , min_samples=4, metric='haversine',algorithm='ball_tree').fit(data)  #maior que 0,01 nao gera cluster\n",
    "\n",
    "DBSCAN_clustered = data.copy()\n",
    "DBSCAN_clustered.loc[:,'Cluster'] = DBS_clustering.labels_ # append labels to points"
   ]
  },
  {
   "cell_type": "code",
   "execution_count": 25,
   "metadata": {
    "colab": {
     "base_uri": "https://localhost:8080/",
     "height": 422
    },
    "executionInfo": {
     "elapsed": 297,
     "status": "ok",
     "timestamp": 1627684011631,
     "user": {
      "displayName": "Anna Luiza Gomes",
      "photoUrl": "https://lh3.googleusercontent.com/a-/AOh14GhjNEQLt1iVqEIbGy8rzz6BUJmdtmMeL1bY-kEtnw=s64",
      "userId": "06212789479970554700"
     },
     "user_tz": 180
    },
    "id": "YhJefwUQZ6UQ",
    "outputId": "147f82a3-7442-4cd1-e3c3-d9b6060381b4"
   },
   "outputs": [
    {
     "data": {
      "text/html": [
       "<div>\n",
       "<style scoped>\n",
       "    .dataframe tbody tr th:only-of-type {\n",
       "        vertical-align: middle;\n",
       "    }\n",
       "\n",
       "    .dataframe tbody tr th {\n",
       "        vertical-align: top;\n",
       "    }\n",
       "\n",
       "    .dataframe thead th {\n",
       "        text-align: right;\n",
       "    }\n",
       "</style>\n",
       "<table border=\"1\" class=\"dataframe\">\n",
       "  <thead>\n",
       "    <tr style=\"text-align: right;\">\n",
       "      <th></th>\n",
       "      <th>X</th>\n",
       "      <th>Y</th>\n",
       "      <th>Cluster</th>\n",
       "    </tr>\n",
       "  </thead>\n",
       "  <tbody>\n",
       "    <tr>\n",
       "      <th>0</th>\n",
       "      <td>-0.752164</td>\n",
       "      <td>-0.399496</td>\n",
       "      <td>0</td>\n",
       "    </tr>\n",
       "    <tr>\n",
       "      <th>1</th>\n",
       "      <td>-0.752132</td>\n",
       "      <td>-0.399498</td>\n",
       "      <td>0</td>\n",
       "    </tr>\n",
       "    <tr>\n",
       "      <th>2</th>\n",
       "      <td>-0.752373</td>\n",
       "      <td>-0.399731</td>\n",
       "      <td>0</td>\n",
       "    </tr>\n",
       "    <tr>\n",
       "      <th>3</th>\n",
       "      <td>-0.752351</td>\n",
       "      <td>-0.399775</td>\n",
       "      <td>0</td>\n",
       "    </tr>\n",
       "    <tr>\n",
       "      <th>4</th>\n",
       "      <td>-0.752333</td>\n",
       "      <td>-0.399793</td>\n",
       "      <td>0</td>\n",
       "    </tr>\n",
       "    <tr>\n",
       "      <th>...</th>\n",
       "      <td>...</td>\n",
       "      <td>...</td>\n",
       "      <td>...</td>\n",
       "    </tr>\n",
       "    <tr>\n",
       "      <th>248</th>\n",
       "      <td>-0.752445</td>\n",
       "      <td>-0.399669</td>\n",
       "      <td>0</td>\n",
       "    </tr>\n",
       "    <tr>\n",
       "      <th>249</th>\n",
       "      <td>-0.752448</td>\n",
       "      <td>-0.399674</td>\n",
       "      <td>0</td>\n",
       "    </tr>\n",
       "    <tr>\n",
       "      <th>250</th>\n",
       "      <td>-0.752450</td>\n",
       "      <td>-0.399679</td>\n",
       "      <td>0</td>\n",
       "    </tr>\n",
       "    <tr>\n",
       "      <th>251</th>\n",
       "      <td>-0.752460</td>\n",
       "      <td>-0.399691</td>\n",
       "      <td>0</td>\n",
       "    </tr>\n",
       "    <tr>\n",
       "      <th>252</th>\n",
       "      <td>-0.752463</td>\n",
       "      <td>-0.399695</td>\n",
       "      <td>0</td>\n",
       "    </tr>\n",
       "  </tbody>\n",
       "</table>\n",
       "<p>253 rows × 3 columns</p>\n",
       "</div>"
      ],
      "text/plain": [
       "            X         Y  Cluster\n",
       "0   -0.752164 -0.399496        0\n",
       "1   -0.752132 -0.399498        0\n",
       "2   -0.752373 -0.399731        0\n",
       "3   -0.752351 -0.399775        0\n",
       "4   -0.752333 -0.399793        0\n",
       "..        ...       ...      ...\n",
       "248 -0.752445 -0.399669        0\n",
       "249 -0.752448 -0.399674        0\n",
       "250 -0.752450 -0.399679        0\n",
       "251 -0.752460 -0.399691        0\n",
       "252 -0.752463 -0.399695        0\n",
       "\n",
       "[253 rows x 3 columns]"
      ]
     },
     "execution_count": 25,
     "metadata": {},
     "output_type": "execute_result"
    }
   ],
   "source": [
    "DBSCAN_clustered"
   ]
  },
  {
   "cell_type": "code",
   "execution_count": 26,
   "metadata": {
    "colab": {
     "base_uri": "https://localhost:8080/",
     "height": 331
    },
    "executionInfo": {
     "elapsed": 23,
     "status": "ok",
     "timestamp": 1627684057136,
     "user": {
      "displayName": "Anna Luiza Gomes",
      "photoUrl": "https://lh3.googleusercontent.com/a-/AOh14GhjNEQLt1iVqEIbGy8rzz6BUJmdtmMeL1bY-kEtnw=s64",
      "userId": "06212789479970554700"
     },
     "user_tz": 180
    },
    "id": "eyoVdTQVZ6UQ",
    "outputId": "743b4601-d82c-4c2e-b518-afee989d205f"
   },
   "outputs": [
    {
     "data": {
      "text/html": [
       "<div>\n",
       "<style scoped>\n",
       "    .dataframe tbody tr th:only-of-type {\n",
       "        vertical-align: middle;\n",
       "    }\n",
       "\n",
       "    .dataframe tbody tr th {\n",
       "        vertical-align: top;\n",
       "    }\n",
       "\n",
       "    .dataframe thead th {\n",
       "        text-align: right;\n",
       "    }\n",
       "</style>\n",
       "<table border=\"1\" class=\"dataframe\">\n",
       "  <thead>\n",
       "    <tr style=\"text-align: right;\">\n",
       "      <th></th>\n",
       "      <th>DBSCAN_size</th>\n",
       "    </tr>\n",
       "    <tr>\n",
       "      <th>Cluster</th>\n",
       "      <th></th>\n",
       "    </tr>\n",
       "  </thead>\n",
       "  <tbody>\n",
       "    <tr>\n",
       "      <th>-1</th>\n",
       "      <td>2</td>\n",
       "    </tr>\n",
       "    <tr>\n",
       "      <th>0</th>\n",
       "      <td>198</td>\n",
       "    </tr>\n",
       "    <tr>\n",
       "      <th>1</th>\n",
       "      <td>13</td>\n",
       "    </tr>\n",
       "    <tr>\n",
       "      <th>2</th>\n",
       "      <td>3</td>\n",
       "    </tr>\n",
       "    <tr>\n",
       "      <th>3</th>\n",
       "      <td>4</td>\n",
       "    </tr>\n",
       "    <tr>\n",
       "      <th>4</th>\n",
       "      <td>23</td>\n",
       "    </tr>\n",
       "    <tr>\n",
       "      <th>5</th>\n",
       "      <td>6</td>\n",
       "    </tr>\n",
       "    <tr>\n",
       "      <th>6</th>\n",
       "      <td>4</td>\n",
       "    </tr>\n",
       "  </tbody>\n",
       "</table>\n",
       "</div>"
      ],
      "text/plain": [
       "         DBSCAN_size\n",
       "Cluster             \n",
       "-1                 2\n",
       " 0               198\n",
       " 1                13\n",
       " 2                 3\n",
       " 3                 4\n",
       " 4                23\n",
       " 5                 6\n",
       " 6                 4"
      ]
     },
     "execution_count": 26,
     "metadata": {},
     "output_type": "execute_result"
    }
   ],
   "source": [
    "DBSCAN_clust_sizes = DBSCAN_clustered.groupby('Cluster').size().to_frame()\n",
    "DBSCAN_clust_sizes.columns = [\"DBSCAN_size\"]\n",
    "DBSCAN_clust_sizes"
   ]
  },
  {
   "cell_type": "code",
   "execution_count": 27,
   "metadata": {
    "colab": {
     "base_uri": "https://localhost:8080/",
     "height": 313
    },
    "executionInfo": {
     "elapsed": 778,
     "status": "ok",
     "timestamp": 1627684099012,
     "user": {
      "displayName": "Anna Luiza Gomes",
      "photoUrl": "https://lh3.googleusercontent.com/a-/AOh14GhjNEQLt1iVqEIbGy8rzz6BUJmdtmMeL1bY-kEtnw=s64",
      "userId": "06212789479970554700"
     },
     "user_tz": 180
    },
    "id": "gi4HrShpiA0b",
    "outputId": "4e95843e-c6d4-4b72-dba6-fb180a8d23a2"
   },
   "outputs": [
    {
     "data": {
      "text/plain": [
       "[Text(0.5, 1.0, 'Clusterization with DBSCAN')]"
      ]
     },
     "execution_count": 27,
     "metadata": {},
     "output_type": "execute_result"
    },
    {
     "data": {
      "image/png": "[encoded data removed]",
      "text/plain": [
       "<Figure size 432x288 with 1 Axes>"
      ]
     },
     "metadata": {
      "needs_background": "light"
     },
     "output_type": "display_data"
    }
   ],
   "source": [
    "sns.scatterplot(data=DBSCAN_clustered,hue='Cluster', x=\"X\", y=\"Y\", palette='Set1').set(title='Clusterization with DBSCAN')"
   ]
  },
  {
   "cell_type": "markdown",
   "metadata": {
    "id": "J3EJmnZYyNuh"
   },
   "source": [
    "## It was generated the same numbers of clusters to compare the clusterization of both models. It shows that the clusters formed by K-Means are more spherical compared to the ones generated by DBSCAN (forming clusters in an arbitrary way)."
   ]
  }
 ],
 "metadata": {
  "colab": {
   "name": "test_clustering.ipynb",
   "provenance": []
  },
  "kernelspec": {
   "display_name": "Python 3",
   "language": "python",
   "name": "python3"
  },
  "language_info": {
   "codemirror_mode": {
    "name": "ipython",
    "version": 3
   },
   "file_extension": ".py",
   "mimetype": "text/x-python",
   "name": "python",
   "nbconvert_exporter": "python",
   "pygments_lexer": "ipython3",
   "version": "3.8.5"
  }
 },
 "nbformat": 4,
 "nbformat_minor": 1
}
